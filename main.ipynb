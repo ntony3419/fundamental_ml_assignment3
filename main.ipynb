{
 "cells": [
  {
   "cell_type": "code",
   "execution_count": null,
   "metadata": {},
   "outputs": [],
   "source": [
    "# stock price prediction using RNNs\n",
    "\n",
    "\n",
    "# Develop and compare different RNNs architecture for predicing stock prices\n",
    "## test cases for standard RNN, LSTM , GRU\n",
    "#evaluate model on accuracy , RMSE, and performance on sequential data\n",
    "\n",
    "\n"
   ]
  }
 ],
 "metadata": {
  "language_info": {
   "name": "python"
  }
 },
 "nbformat": 4,
 "nbformat_minor": 2
}
